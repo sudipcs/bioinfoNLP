{
 "cells": [
  {
   "cell_type": "markdown",
   "id": "cf56c67d",
   "metadata": {},
   "source": [
    "### To identify and classify biological entities such as genes, proteins, diseases, and drugs from text "
   ]
  },
  {
   "cell_type": "code",
   "execution_count": 2,
   "id": "0c6ec31f",
   "metadata": {},
   "outputs": [
    {
     "name": "stdout",
     "output_type": "stream",
     "text": [
      "Identified Entities:\n",
      "Genes: BRCA1, TP53\n",
      "Proteins: hemoglobin\n",
      "Diseases: cancer, diabetes\n",
      "Drugs: metformin\n"
     ]
    }
   ],
   "source": [
    "# Example dictionaries of keywords (simplified for demonstration)\n",
    "genes = [\"BRCA1\", \"TP53\", \"EGFR\", \"APOE\"]\n",
    "proteins = [\"hemoglobin\", \"collagen\", \"myosin\", \"insulin\"]\n",
    "diseases = [\"cancer\", \"diabetes\", \"alzheimer\", \"influenza\"]\n",
    "drugs = [\"aspirin\", \"metformin\", \"insulin\", \"ibuprofen\"]\n",
    "\n",
    "import re\n",
    "\n",
    "def classify_entities(text):\n",
    "    found_genes = []\n",
    "    found_proteins = []\n",
    "    found_diseases = []\n",
    "    found_drugs = []\n",
    "    \n",
    "    # Match genes\n",
    "    for gene in genes:\n",
    "        if re.search(r'\\b' + gene + r'\\b', text, re.IGNORECASE):\n",
    "            found_genes.append(gene)\n",
    "    \n",
    "    # Match proteins\n",
    "    for protein in proteins:\n",
    "        if re.search(r'\\b' + protein + r'\\b', text, re.IGNORECASE):\n",
    "            found_proteins.append(protein)\n",
    "    \n",
    "    # Match diseases\n",
    "    for disease in diseases:\n",
    "        if re.search(r'\\b' + disease + r'\\b', text, re.IGNORECASE):\n",
    "            found_diseases.append(disease)\n",
    "    \n",
    "    # Match drugs\n",
    "    for drug in drugs:\n",
    "        if re.search(r'\\b' + drug + r'\\b', text, re.IGNORECASE):\n",
    "            found_drugs.append(drug)\n",
    "    \n",
    "    return {\n",
    "        \"Genes\": found_genes,\n",
    "        \"Proteins\": found_proteins,\n",
    "        \"Diseases\": found_diseases,\n",
    "        \"Drugs\": found_drugs\n",
    "    }\n",
    "\n",
    "# Example input text\n",
    "text = \"\"\"\n",
    "BRCA1 and TP53 are important genes in cancer research.\n",
    "Hemoglobin levels are crucial in diagnosing anemia.\n",
    "Metformin is commonly used to treat diabetes.\n",
    "\"\"\"\n",
    "\n",
    "# Classify entities in the text\n",
    "entities = classify_entities(text)\n",
    "\n",
    "# Display the results\n",
    "print(\"Identified Entities:\")\n",
    "for category, items in entities.items():\n",
    "    print(f\"{category}: {', '.join(items) if items else 'None'}\")\n"
   ]
  },
  {
   "cell_type": "markdown",
   "id": "309248d3",
   "metadata": {},
   "source": [
    "### Extracting gene-disease relationships from text "
   ]
  },
  {
   "cell_type": "code",
   "execution_count": 3,
   "id": "e4221f7f",
   "metadata": {},
   "outputs": [
    {
     "name": "stdout",
     "output_type": "stream",
     "text": [
      "Extracted Gene-Disease Relationships:\n",
      "Gene: BRCA1, Disease: cancer, Context: BRCA1 is strongly associated with breast cancer and ovarian cancer\n",
      "Gene: EGFR, Disease: cancer, Context: EGFR mutations have been linked to non-small cell lung cancer\n",
      "Gene: APOE, Disease: alzheimer, Context: APOE gene is associated with Alzheimer\n"
     ]
    }
   ],
   "source": [
    "import re\n",
    "\n",
    "# Example dictionaries of keywords (simplified for demonstration)\n",
    "genes = [\"BRCA1\", \"TP53\", \"EGFR\", \"APOE\"]\n",
    "diseases = [\"cancer\", \"diabetes\", \"alzheimer\", \"influenza\"]\n",
    "\n",
    "relationship_patterns = [\n",
    "    r'\\bcauses\\b', \n",
    "    r'\\blinked to\\b', \n",
    "    r'\\bassociated with\\b', \n",
    "    r'\\bincreases the risk of\\b'\n",
    "]\n",
    "\n",
    "\n",
    "\n",
    "def extract_gene_disease_relationships(text):\n",
    "    relationships = []\n",
    "    \n",
    "    for gene in genes:\n",
    "        for disease in diseases:\n",
    "            for pattern in relationship_patterns:\n",
    "                # Construct the regex to find the pattern\n",
    "                regex = fr'{gene}.*{pattern}.*{disease}|{disease}.*{pattern}.*{gene}'\n",
    "                match = re.search(regex, text, re.IGNORECASE)\n",
    "                \n",
    "                if match:\n",
    "                    relationships.append((gene, disease, match.group()))\n",
    "    \n",
    "    return relationships\n",
    "\n",
    "\n",
    "# Example input text\n",
    "text = \"\"\"\n",
    "BRCA1 is strongly associated with breast cancer and ovarian cancer.\n",
    "Mutations in the TP53 gene can cause a variety of cancers.\n",
    "EGFR mutations have been linked to non-small cell lung cancer.\n",
    "The APOE gene is associated with Alzheimer's disease.\n",
    "\"\"\"\n",
    "\n",
    "# Extract relationships\n",
    "relationships = extract_gene_disease_relationships(text)\n",
    "\n",
    "# Display the results\n",
    "print(\"Extracted Gene-Disease Relationships:\")\n",
    "for gene, disease, sentence in relationships:\n",
    "    print(f\"Gene: {gene}, Disease: {disease}, Context: {sentence}\")\n"
   ]
  },
  {
   "cell_type": "code",
   "execution_count": null,
   "id": "65dcca7a",
   "metadata": {},
   "outputs": [],
   "source": []
  },
  {
   "cell_type": "code",
   "execution_count": 2,
   "id": "382a633b",
   "metadata": {},
   "outputs": [
    {
     "name": "stdout",
     "output_type": "stream",
     "text": [
      "Predicted category: Cancer\n"
     ]
    }
   ],
   "source": [
    "from sklearn.feature_extraction.text import TfidfVectorizer\n",
    "from sklearn.naive_bayes import MultinomialNB\n",
    "from sklearn.pipeline import make_pipeline\n",
    "\n",
    "# Example data\n",
    "texts = [\"BRCA1 is associated with breast cancer.\", \"The influenza virus causes the flu.\"]\n",
    "labels = [\"Cancer\", \"Virus\"]\n",
    "\n",
    "# Create a model pipeline\n",
    "model = make_pipeline(TfidfVectorizer(), MultinomialNB())\n",
    "\n",
    "# Train the model\n",
    "model.fit(texts, labels)\n",
    "\n",
    "# Predict the category of new text\n",
    "new_text = \"TP53 mutation is linked with several cancers.\"\n",
    "prediction = model.predict([new_text])\n",
    "print(f\"Predicted category: {prediction[0]}\")\n"
   ]
  },
  {
   "cell_type": "markdown",
   "id": "097f2672",
   "metadata": {},
   "source": [
    "### Text Mining for Gene-Disease Associations. Identify associations between genes and diseases from scientific literature."
   ]
  },
  {
   "cell_type": "code",
   "execution_count": null,
   "id": "c8beb847",
   "metadata": {},
   "outputs": [],
   "source": []
  },
  {
   "cell_type": "code",
   "execution_count": 16,
   "id": "7320855c",
   "metadata": {},
   "outputs": [
    {
     "name": "stdout",
     "output_type": "stream",
     "text": [
      "['Mutations', 'BRCA1', 'gene', 'associated', 'increased', 'risk', 'breast', 'cancer', '.']\n"
     ]
    }
   ],
   "source": [
    "import nltk\n",
    "from nltk import word_tokenize\n",
    "from nltk.corpus import stopwords\n",
    "from Bio import Entrez\n",
    "from Bio import Medline\n",
    "\n",
    "# Define stopwords\n",
    "stop_words = set(stopwords.words('english'))\n",
    "\n",
    "# Example sentence\n",
    "sentence = \"Mutations in the BRCA1 gene are associated with an increased risk of breast cancer.\"\n",
    "\n",
    "# Tokenize and remove stopwords\n",
    "tokens = word_tokenize(sentence)\n",
    "filtered_tokens = [word for word in tokens if word.lower() not in stop_words]\n",
    "\n",
    "print(filtered_tokens)\n"
   ]
  },
  {
   "cell_type": "code",
   "execution_count": null,
   "id": "b9301336",
   "metadata": {},
   "outputs": [],
   "source": []
  },
  {
   "cell_type": "code",
   "execution_count": 9,
   "id": "e14ebead",
   "metadata": {},
   "outputs": [
    {
     "name": "stdout",
     "output_type": "stream",
     "text": [
      "{'neg': 0.416, 'neu': 0.477, 'pos': 0.106, 'compound': -0.7814}\n"
     ]
    },
    {
     "name": "stderr",
     "output_type": "stream",
     "text": [
      "[nltk_data] Downloading package vader_lexicon to\n",
      "[nltk_data]     C:\\Users\\Sudeep\\AppData\\Roaming\\nltk_data...\n",
      "[nltk_data]   Package vader_lexicon is already up-to-date!\n"
     ]
    }
   ],
   "source": [
    "import nltk\n",
    "nltk.download('vader_lexicon')\n",
    "from nltk.sentiment.vader import SentimentIntensityAnalyzer\n",
    "\n",
    "# Initialize VADER sentiment analyzer\n",
    "sia = SentimentIntensityAnalyzer()\n",
    "\n",
    "# Sample clinical note\n",
    "note = \"The patient shows signs of improvement but is still experiencing severe pain.\"\n",
    "\n",
    "# Analyze sentiment\n",
    "sentiment = sia.polarity_scores(note)\n",
    "print(sentiment)\n"
   ]
  },
  {
   "cell_type": "code",
   "execution_count": null,
   "id": "d350e54c",
   "metadata": {},
   "outputs": [],
   "source": []
  },
  {
   "cell_type": "markdown",
   "id": "ad255ac4",
   "metadata": {},
   "source": [
    "### Biomedical Literature Summarization-  Automatically generate summaries of research papers or clinical trial reports."
   ]
  },
  {
   "cell_type": "code",
   "execution_count": 3,
   "id": "4282bd60",
   "metadata": {},
   "outputs": [
    {
     "name": "stderr",
     "output_type": "stream",
     "text": [
      "No model was supplied, defaulted to google-t5/t5-small and revision d769bba (https://huggingface.co/google-t5/t5-small).\n",
      "Using a pipeline without specifying a model name and revision in production is not recommended.\n",
      "All PyTorch model weights were used when initializing TFT5ForConditionalGeneration.\n",
      "\n",
      "All the weights of TFT5ForConditionalGeneration were initialized from the PyTorch model.\n",
      "If your task is similar to the task the model of the checkpoint was trained on, you can already use TFT5ForConditionalGeneration for predictions without further training.\n"
     ]
    },
    {
     "name": "stdout",
     "output_type": "stream",
     "text": [
      "a meaningful microbiome data analysis necessitates the development of interpretable models that incorporate inferences across available data as well as background biomedical knowledge .\n"
     ]
    }
   ],
   "source": [
    "from transformers import pipeline\n",
    "\n",
    "# Load summarization pipeline\n",
    "summarizer = pipeline(\"summarization\")\n",
    "\n",
    "# Sample text (abstract of a paper)\n",
    "text = \"\"\"\n",
    "Microbiome data analysis and its interpretation into meaningful biological insights remain very challenging for\n",
    "numerous reasons, perhaps most prominently, due to the need to account for multiple factors, including\n",
    "collinearity, sparsity (excessive zeros) and effect size, that the complex experimental workflow and subsequent\n",
    "downstream data analysis require. Moreover, a meaningful microbiome data analysis necessitates the development\n",
    "of interpretable models that incorporate inferences across available data as well as background biomedical\n",
    "knowledge. We developed a multimodal framework that considers sparsity (excessive zeros), lower effect size,\n",
    "intrinsically microbial correlations, i.e., collinearity, as well as background biomedical knowledge in the form of\n",
    "a cluster-infused enriched network architecture. Finally, our framework also provides a candidate taxa/Operational\n",
    "Taxonomic Unit (OTU) that can be targeted for future validation experiments.\n",
    "\"\"\"\n",
    "\n",
    "# Summarize the text\n",
    "summary = summarizer(text, max_length=50, min_length=25, do_sample=False)\n",
    "\n",
    "print(summary[0]['summary_text'])\n"
   ]
  },
  {
   "cell_type": "code",
   "execution_count": null,
   "id": "0b2bdd81",
   "metadata": {},
   "outputs": [],
   "source": []
  },
  {
   "cell_type": "code",
   "execution_count": 2,
   "id": "9b2a3843",
   "metadata": {},
   "outputs": [
    {
     "name": "stdout",
     "output_type": "stream",
     "text": [
      "Sentiment: Sentiment(polarity=0.2556818181818182, subjectivity=0.6647727272727273)\n"
     ]
    }
   ],
   "source": [
    "from textblob import TextBlob\n",
    "\n",
    "# Example text\n",
    "text = \"The study found a significant increase in survival rates with the new drug.\"\n",
    "\n",
    "# Perform sentiment analysis\n",
    "blob = TextBlob(text)\n",
    "sentiment = blob.sentiment\n",
    "print(f\"Sentiment: {sentiment}\")\n"
   ]
  }
 ],
 "metadata": {
  "kernelspec": {
   "display_name": "Python 3 (ipykernel)",
   "language": "python",
   "name": "python3"
  },
  "language_info": {
   "codemirror_mode": {
    "name": "ipython",
    "version": 3
   },
   "file_extension": ".py",
   "mimetype": "text/x-python",
   "name": "python",
   "nbconvert_exporter": "python",
   "pygments_lexer": "ipython3",
   "version": "3.9.7"
  }
 },
 "nbformat": 4,
 "nbformat_minor": 5
}
